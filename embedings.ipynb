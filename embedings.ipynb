{
  "cells": [
    {
      "cell_type": "markdown",
      "metadata": {
        "id": "8Tyr-_EEmK6s"
      },
      "source": [
        "#TEXT MINING\n",
        "\n",
        "UNRN\n",
        "\n",
        "Especialización en ciencias de datos aplicada\n",
        "\n",
        "Natalia Debandi\n",
        "\n",
        "ndebandi@unrn.edu.ar\n",
        "\n",
        "**CLASE 2**\n",
        "\n",
        "EMBEDINGS\n",
        "\n"
      ]
    },
    {
      "cell_type": "code",
      "source": [
        "!pip install sklearn"
      ],
      "metadata": {
        "id": "KEqkx7xdFBRs",
        "outputId": "cb756260-9db5-4f5d-96e1-97ed7bc19d9b",
        "colab": {
          "base_uri": "https://localhost:8080/"
        }
      },
      "execution_count": 1,
      "outputs": [
        {
          "output_type": "stream",
          "name": "stdout",
          "text": [
            "Collecting sklearn\n",
            "  Downloading sklearn-0.0.post12.tar.gz (2.6 kB)\n",
            "  \u001b[1;31merror\u001b[0m: \u001b[1msubprocess-exited-with-error\u001b[0m\n",
            "  \n",
            "  \u001b[31m×\u001b[0m \u001b[32mpython setup.py egg_info\u001b[0m did not run successfully.\n",
            "  \u001b[31m│\u001b[0m exit code: \u001b[1;36m1\u001b[0m\n",
            "  \u001b[31m╰─>\u001b[0m See above for output.\n",
            "  \n",
            "  \u001b[1;35mnote\u001b[0m: This error originates from a subprocess, and is likely not a problem with pip.\n",
            "  Preparing metadata (setup.py) ... \u001b[?25l\u001b[?25herror\n",
            "\u001b[1;31merror\u001b[0m: \u001b[1mmetadata-generation-failed\u001b[0m\n",
            "\n",
            "\u001b[31m×\u001b[0m Encountered error while generating package metadata.\n",
            "\u001b[31m╰─>\u001b[0m See above for output.\n",
            "\n",
            "\u001b[1;35mnote\u001b[0m: This is an issue with the package mentioned above, not pip.\n",
            "\u001b[1;36mhint\u001b[0m: See above for details.\n"
          ]
        }
      ]
    },
    {
      "cell_type": "code",
      "source": [
        "!pip install gensim"
      ],
      "metadata": {
        "colab": {
          "base_uri": "https://localhost:8080/"
        },
        "id": "ZYjmT9G6Eu7Y",
        "outputId": "c69360b2-50d9-4bd6-e3e3-de660b17951a"
      },
      "execution_count": 2,
      "outputs": [
        {
          "output_type": "stream",
          "name": "stdout",
          "text": [
            "Collecting gensim\n",
            "  Downloading gensim-4.3.3-cp311-cp311-manylinux_2_17_x86_64.manylinux2014_x86_64.whl.metadata (8.1 kB)\n",
            "Collecting numpy<2.0,>=1.18.5 (from gensim)\n",
            "  Downloading numpy-1.26.4-cp311-cp311-manylinux_2_17_x86_64.manylinux2014_x86_64.whl.metadata (61 kB)\n",
            "\u001b[2K     \u001b[90m━━━━━━━━━━━━━━━━━━━━━━━━━━━━━━━━━━━━━━━━\u001b[0m \u001b[32m61.0/61.0 kB\u001b[0m \u001b[31m1.1 MB/s\u001b[0m eta \u001b[36m0:00:00\u001b[0m\n",
            "\u001b[?25hCollecting scipy<1.14.0,>=1.7.0 (from gensim)\n",
            "  Downloading scipy-1.13.1-cp311-cp311-manylinux_2_17_x86_64.manylinux2014_x86_64.whl.metadata (60 kB)\n",
            "\u001b[2K     \u001b[90m━━━━━━━━━━━━━━━━━━━━━━━━━━━━━━━━━━━━━━━━\u001b[0m \u001b[32m60.6/60.6 kB\u001b[0m \u001b[31m1.8 MB/s\u001b[0m eta \u001b[36m0:00:00\u001b[0m\n",
            "\u001b[?25hRequirement already satisfied: smart-open>=1.8.1 in /usr/local/lib/python3.11/dist-packages (from gensim) (7.1.0)\n",
            "Requirement already satisfied: wrapt in /usr/local/lib/python3.11/dist-packages (from smart-open>=1.8.1->gensim) (1.17.2)\n",
            "Downloading gensim-4.3.3-cp311-cp311-manylinux_2_17_x86_64.manylinux2014_x86_64.whl (26.7 MB)\n",
            "\u001b[2K   \u001b[90m━━━━━━━━━━━━━━━━━━━━━━━━━━━━━━━━━━━━━━━━\u001b[0m \u001b[32m26.7/26.7 MB\u001b[0m \u001b[31m39.0 MB/s\u001b[0m eta \u001b[36m0:00:00\u001b[0m\n",
            "\u001b[?25hDownloading numpy-1.26.4-cp311-cp311-manylinux_2_17_x86_64.manylinux2014_x86_64.whl (18.3 MB)\n",
            "\u001b[2K   \u001b[90m━━━━━━━━━━━━━━━━━━━━━━━━━━━━━━━━━━━━━━━━\u001b[0m \u001b[32m18.3/18.3 MB\u001b[0m \u001b[31m52.4 MB/s\u001b[0m eta \u001b[36m0:00:00\u001b[0m\n",
            "\u001b[?25hDownloading scipy-1.13.1-cp311-cp311-manylinux_2_17_x86_64.manylinux2014_x86_64.whl (38.6 MB)\n",
            "\u001b[2K   \u001b[90m━━━━━━━━━━━━━━━━━━━━━━━━━━━━━━━━━━━━━━━━\u001b[0m \u001b[32m38.6/38.6 MB\u001b[0m \u001b[31m11.8 MB/s\u001b[0m eta \u001b[36m0:00:00\u001b[0m\n",
            "\u001b[?25hInstalling collected packages: numpy, scipy, gensim\n",
            "  Attempting uninstall: numpy\n",
            "    Found existing installation: numpy 2.0.2\n",
            "    Uninstalling numpy-2.0.2:\n",
            "      Successfully uninstalled numpy-2.0.2\n",
            "  Attempting uninstall: scipy\n",
            "    Found existing installation: scipy 1.14.1\n",
            "    Uninstalling scipy-1.14.1:\n",
            "      Successfully uninstalled scipy-1.14.1\n",
            "Successfully installed gensim-4.3.3 numpy-1.26.4 scipy-1.13.1\n"
          ]
        }
      ]
    },
    {
      "cell_type": "code",
      "source": [
        "import warnings\n",
        "warnings.filterwarnings('ignore')\n",
        "\n",
        "from gensim.models import Word2Vec, KeyedVectors\n",
        "from gensim.test.utils import common_texts\n",
        "import numpy as np\n",
        "import matplotlib.pyplot as plt\n",
        "from sklearn.decomposition import PCA\n",
        "from sklearn.metrics.pairwise import cosine_similarity"
      ],
      "metadata": {
        "id": "UV2QvDPGE41S"
      },
      "execution_count": 1,
      "outputs": []
    },
    {
      "cell_type": "code",
      "source": [
        "# Datos de ejemplo (oraciones tokenizadas)\n",
        "oraciones = [\n",
        "    [\"python\", \"es\", \"un\", \"lenguaje\", \"de\", \"programación\"],\n",
        "    [\"java\", \"es\", \"otro\", \"lenguaje\", \"de\", \"programación\"],\n",
        "    [\"las\", \"redes\", \"neuronales\", \"son\", \"modelos\", \"de\", \"aprendizaje\"],\n",
        "    [\"la\", \"inteligencia\", \"artificial\", \"usa\", \"redes\", \"neuronales\"],\n",
        "    [\"python\", \"y\", \"java\", \"son\", \"lenguajes\", \"populares\"]\n",
        "]\n",
        "\n",
        "# Configuración del modelo\n",
        "vector_size = 100  # Dimensión de los embeddings\n",
        "window = 5         # Tamaño de la ventana de contexto\n",
        "min_count = 1      # Frecuencia mínima de palabras\n",
        "workers = 4        # Número de hilos\n",
        "\n",
        "# Entrenamiento del modelo\n",
        "model = Word2Vec(\n",
        "    sentences=oraciones,\n",
        "    vector_size=vector_size,\n",
        "    window=window,\n",
        "    min_count=min_count,\n",
        "    workers=workers\n",
        ")\n",
        "\n",
        "print(\"Modelo Word2Vec entrenado!\")"
      ],
      "metadata": {
        "colab": {
          "base_uri": "https://localhost:8080/"
        },
        "id": "kqQ72Cy6Fr9P",
        "outputId": "cbca1ea3-ddbc-48df-c084-3953567fa36f"
      },
      "execution_count": 2,
      "outputs": [
        {
          "output_type": "stream",
          "name": "stdout",
          "text": [
            "Modelo Word2Vec entrenado!\n"
          ]
        }
      ]
    },
    {
      "cell_type": "code",
      "source": [
        "# Obtener el embedding de una palabra\n",
        "palabra = \"python\"\n",
        "if palabra in model.wv:\n",
        "    print(f\"Embedding para '{palabra}':\")\n",
        "    print(model.wv[palabra])\n",
        "else:\n",
        "    print(f\"'{palabra}' no está en el vocabulario\")"
      ],
      "metadata": {
        "colab": {
          "base_uri": "https://localhost:8080/"
        },
        "id": "dD8aN_J7Fy7L",
        "outputId": "7d5ab1f6-c1c6-4fd2-c160-36783b66bd1b"
      },
      "execution_count": 3,
      "outputs": [
        {
          "output_type": "stream",
          "name": "stdout",
          "text": [
            "Embedding para 'python':\n",
            "[-9.5785465e-03  8.9431154e-03  4.1650687e-03  9.2347348e-03\n",
            "  6.6435025e-03  2.9247368e-03  9.8040197e-03 -4.4246409e-03\n",
            " -6.8033109e-03  4.2273807e-03  3.7290000e-03 -5.6646108e-03\n",
            "  9.7047603e-03 -3.5583067e-03  9.5494064e-03  8.3472609e-04\n",
            " -6.3384566e-03 -1.9771170e-03 -7.3770545e-03 -2.9795230e-03\n",
            "  1.0416972e-03  9.4826873e-03  9.3558477e-03 -6.5958775e-03\n",
            "  3.4751510e-03  2.2755705e-03 -2.4893521e-03 -9.2291720e-03\n",
            "  1.0271263e-03 -8.1657059e-03  6.3201892e-03 -5.8000805e-03\n",
            "  5.5354391e-03  9.8337233e-03 -1.6000033e-04  4.5284927e-03\n",
            " -1.8094003e-03  7.3607611e-03  3.9400971e-03 -9.0103243e-03\n",
            " -2.3985039e-03  3.6287690e-03 -9.9568366e-05 -1.2012708e-03\n",
            " -1.0554385e-03 -1.6716016e-03  6.0495257e-04  4.1650953e-03\n",
            " -4.2527914e-03 -3.8336217e-03 -5.2816868e-05  2.6935578e-04\n",
            " -1.6880632e-04 -4.7855065e-03  4.3134023e-03 -2.1719194e-03\n",
            "  2.1035396e-03  6.6652300e-04  5.9696771e-03 -6.8423809e-03\n",
            " -6.8157101e-03 -4.4762576e-03  9.4358288e-03 -1.5918827e-03\n",
            " -9.4292425e-03 -5.4504158e-04 -4.4489228e-03  6.0000787e-03\n",
            " -9.5836855e-03  2.8590010e-03 -9.2528323e-03  1.2498009e-03\n",
            "  5.9991982e-03  7.3973476e-03 -7.6214634e-03 -6.0530235e-03\n",
            " -6.8384409e-03 -7.9183402e-03 -9.4990805e-03 -2.1254970e-03\n",
            " -8.3593250e-04 -7.2562015e-03  6.7870365e-03  1.1196196e-03\n",
            "  5.8288667e-03  1.4728665e-03  7.8936579e-04 -7.3681297e-03\n",
            " -2.1766580e-03  4.3210792e-03 -5.0853146e-03  1.1307895e-03\n",
            "  2.8833640e-03 -1.5363609e-03  9.9322954e-03  8.3496347e-03\n",
            "  2.4156666e-03  7.1182456e-03  5.8914376e-03 -5.5806171e-03]\n"
          ]
        }
      ]
    },
    {
      "cell_type": "code",
      "source": [
        "# Obtener el embedding de una palabra\n",
        "palabra = \"neurona\"\n",
        "if palabra in model.wv:\n",
        "    print(f\"Embedding para '{palabra}':\")\n",
        "    print(model.wv[palabra])\n",
        "else:\n",
        "    print(f\"'{palabra}' no está en el vocabulario\")"
      ],
      "metadata": {
        "colab": {
          "base_uri": "https://localhost:8080/"
        },
        "id": "WJbvp4fdF27B",
        "outputId": "3bbbf634-b5ac-48ff-9be7-2dd6e04a7cc5"
      },
      "execution_count": 4,
      "outputs": [
        {
          "output_type": "stream",
          "name": "stdout",
          "text": [
            "'neurona' no está en el vocabulario\n"
          ]
        }
      ]
    },
    {
      "cell_type": "code",
      "source": [
        "# Palabras más similares\n",
        "palabra = \"python\"\n",
        "similares = model.wv.most_similar(palabra, topn=3)\n",
        "print(f\"Palabras más similares a '{palabra}':\")\n",
        "for palabra, similitud in similares:\n",
        "    print(f\"{palabra}: {similitud:.3f}\")"
      ],
      "metadata": {
        "colab": {
          "base_uri": "https://localhost:8080/"
        },
        "id": "SMCDH3w1F_kc",
        "outputId": "4b01dd70-26fa-4c7f-cae8-a63919350f1d"
      },
      "execution_count": 5,
      "outputs": [
        {
          "output_type": "stream",
          "name": "stdout",
          "text": [
            "Palabras más similares a 'python':\n",
            "son: 0.199\n",
            "y: 0.097\n",
            "es: 0.075\n"
          ]
        }
      ]
    },
    {
      "cell_type": "code",
      "source": [
        "# Similitud entre dos palabras\n",
        "palabra1 = \"python\"\n",
        "palabra2 = \"java\"\n",
        "if palabra1 in model.wv and palabra2 in model.wv:\n",
        "    similitud = model.wv.similarity(palabra1, palabra2)\n",
        "    print(f\"Similitud entre '{palabra1}' y '{palabra2}': {similitud:.3f}\")\n",
        "else:\n",
        "    print(\"Una o ambas palabras no están en el vocabulario\")"
      ],
      "metadata": {
        "colab": {
          "base_uri": "https://localhost:8080/"
        },
        "id": "cG8aMVmpGFvi",
        "outputId": "92e719a5-c13c-47af-8885-2bfcde79ac28"
      },
      "execution_count": 6,
      "outputs": [
        {
          "output_type": "stream",
          "name": "stdout",
          "text": [
            "Similitud entre 'python' y 'java': 0.009\n"
          ]
        }
      ]
    },
    {
      "cell_type": "code",
      "source": [
        "# Función para visualizar embeddings\n",
        "def visualizar_embeddings(modelo, palabras):\n",
        "    # Obtener los vectores para las palabras seleccionadas\n",
        "    vectores = np.array([modelo.wv[palabra] for palabra in palabras if palabra in modelo.wv])\n",
        "    palabras_filtradas = [palabra for palabra in palabras if palabra in modelo.wv]\n",
        "\n",
        "    # Reducir dimensionalidad con PCA\n",
        "    pca = PCA(n_components=2)\n",
        "    vectores_2d = pca.fit_transform(vectores)\n",
        "\n",
        "    # Crear gráfico\n",
        "    plt.figure(figsize=(10, 8))\n",
        "    plt.scatter(vectores_2d[:, 0], vectores_2d[:, 1])\n",
        "\n",
        "    # Añadir etiquetas\n",
        "    for i, palabra in enumerate(palabras_filtradas):\n",
        "        plt.annotate(palabra, xy=(vectores_2d[i, 0], vectores_2d[i, 1]))\n",
        "\n",
        "    plt.title(\"Visualización 2D de embeddings de palabras\")\n",
        "    plt.show()\n",
        "\n",
        "# Palabras a visualizar\n",
        "palabras_visualizar = [\"python\", \"java\", \"lenguaje\", \"programación\", \"redes\", \"neuronales\", \"inteligencia\"]\n",
        "\n",
        "visualizar_embeddings(model, palabras_visualizar)"
      ],
      "metadata": {
        "colab": {
          "base_uri": "https://localhost:8080/",
          "height": 699
        },
        "id": "jdJ0NdVgGLpX",
        "outputId": "79792a7c-1101-4fcc-d6ce-6d21ae216dc3"
      },
      "execution_count": 7,
      "outputs": [
        {
          "output_type": "display_data",
          "data": {
            "text/plain": [
              "<Figure size 1000x800 with 1 Axes>"
            ],
            "image/png": "[encoded data removed]"
          },
          "metadata": {}
        }
      ]
    },
    {
      "cell_type": "code",
      "source": [
        "# usamos gesim con un modelo pequeño, hay modelos mucho mas grandes\n",
        "\n",
        "# Descargar modelo de prueba\n",
        "import gensim.downloader as api\n",
        "modelo_preentrenado = api.load('word2vec-google-news-300')\n",
        "\n",
        "# Ejemplo con el modelo pre-entrenado\n",
        "palabra = \"king\"\n",
        "print(f\"\\nEmbedding para '{palabra}' (modelo pre-entrenado):\")\n",
        "print(modelo_preentrenado[palabra][:20], \"...\")  # Mostramos solo los primeros 20 valores\n",
        "\n",
        "# Analogía clásica: rey - hombre + mujer = reina\n",
        "analogia = modelo_preentrenado.most_similar(positive=['woman', 'king'], negative=['man'], topn=1)\n",
        "print(\"\\nAnalogía: rey - hombre + mujer =\", analogia[0][0])"
      ],
      "metadata": {
        "colab": {
          "base_uri": "https://localhost:8080/"
        },
        "id": "S-6FwVz5GPal",
        "outputId": "443f9c09-046c-49fb-801f-7e82000fd48f"
      },
      "execution_count": 8,
      "outputs": [
        {
          "output_type": "stream",
          "name": "stdout",
          "text": [
            "[==================================================] 100.0% 1662.8/1662.8MB downloaded\n",
            "\n",
            "Embedding para 'king' (modelo pre-entrenado):\n",
            "[ 0.12597656  0.02978516  0.00860596  0.13964844 -0.02563477 -0.03613281\n",
            "  0.11181641 -0.19824219  0.05126953  0.36328125 -0.2421875  -0.30273438\n",
            " -0.17773438 -0.02490234 -0.16796875 -0.16992188  0.03466797  0.00521851\n",
            "  0.04638672  0.12890625] ...\n",
            "\n",
            "Analogía: rey - hombre + mujer = queen\n"
          ]
        }
      ]
    },
    {
      "cell_type": "code",
      "source": [
        "# Suma y resta de vectores\n",
        "def analogia_vectorial(modelo, positivo, negativo, topn=5):\n",
        "    resultado = modelo.most_similar(positive=positivo, negative=negativo, topn=topn)\n",
        "    print(f\"{' + '.join(positivo)} - {' - '.join(negativo)}:\")\n",
        "    for palabra, similitud in resultado:\n",
        "        print(f\"{palabra}: {similitud:.3f}\")\n",
        "\n"
      ],
      "metadata": {
        "id": "RX8yL3VsIB4z"
      },
      "execution_count": null,
      "outputs": []
    },
    {
      "cell_type": "code",
      "source": [
        "# Ejemplo 1\n",
        "analogia_vectorial(modelo_preentrenado, ['king', 'woman'], ['man'])"
      ],
      "metadata": {
        "colab": {
          "base_uri": "https://localhost:8080/"
        },
        "id": "jD-kveKrIMzy",
        "outputId": "026f2c1b-7b00-4ce7-c06d-f27fe62a20b9"
      },
      "execution_count": null,
      "outputs": [
        {
          "output_type": "stream",
          "name": "stdout",
          "text": [
            "king + woman - man:\n",
            "queen: 0.712\n",
            "monarch: 0.619\n",
            "princess: 0.590\n",
            "crown_prince: 0.550\n",
            "prince: 0.538\n"
          ]
        }
      ]
    },
    {
      "cell_type": "code",
      "source": [
        "# Ejemplo 2\n",
        "analogia_vectorial(modelo_preentrenado, ['france', 'rome'], ['italy'])"
      ],
      "metadata": {
        "colab": {
          "base_uri": "https://localhost:8080/"
        },
        "id": "EIVcjNCJIMiJ",
        "outputId": "ddf17638-45cd-47a8-8b91-47643f03b6f6"
      },
      "execution_count": null,
      "outputs": [
        {
          "output_type": "stream",
          "name": "stdout",
          "text": [
            "france + rome - italy:\n",
            "paris: 0.477\n",
            "charles: 0.474\n",
            "albert: 0.468\n",
            "alors: 0.465\n",
            "georgia: 0.465\n"
          ]
        }
      ]
    },
    {
      "cell_type": "code",
      "source": [
        "# Ejemplo 3\n",
        "analogia_vectorial(modelo_preentrenado, ['dog', 'kitten'], ['cat'])"
      ],
      "metadata": {
        "colab": {
          "base_uri": "https://localhost:8080/"
        },
        "id": "Z1BkPeGRIWTS",
        "outputId": "fa6ff8f0-5be7-46b1-c017-cd4f3a2e0f21"
      },
      "execution_count": null,
      "outputs": [
        {
          "output_type": "stream",
          "name": "stdout",
          "text": [
            "dog + kitten - cat:\n",
            "puppy: 0.770\n",
            "pup: 0.686\n",
            "pit_bull: 0.678\n",
            "dogs: 0.677\n",
            "Rottweiler: 0.665\n"
          ]
        }
      ]
    },
    {
      "cell_type": "code",
      "source": [
        "# Guardar modelo\n",
        "ruta_modelo = \"mi_modelo_word2vec.model\"\n",
        "model.save(ruta_modelo)\n",
        "print(f\"Modelo guardado en {ruta_modelo}\")\n",
        "\n",
        "# Cargar modelo\n",
        "modelo_cargado = Word2Vec.load(ruta_modelo)\n",
        "print(\"Modelo cargado correctamente!\")"
      ],
      "metadata": {
        "colab": {
          "base_uri": "https://localhost:8080/"
        },
        "id": "LlQkfAbNI4yk",
        "outputId": "b37043b7-6e5d-40fa-ec1e-470255a1ed56"
      },
      "execution_count": null,
      "outputs": [
        {
          "output_type": "stream",
          "name": "stdout",
          "text": [
            "Modelo guardado en mi_modelo_word2vec.model\n",
            "Modelo cargado correctamente!\n"
          ]
        }
      ]
    },
    {
      "cell_type": "code",
      "source": [
        "# Función corregida para trabajar con ambos tipos de modelos (Word2Vec y KeyedVectors)\n",
        "def buscar_similares(modelo, palabra_consulta, topn=5):\n",
        "    # Determinar si es un modelo Word2Vec completo o solo KeyedVectors\n",
        "    if isinstance(modelo, Word2Vec):\n",
        "        vectors = modelo.wv\n",
        "    else:\n",
        "        vectors = modelo\n",
        "\n",
        "    if palabra_consulta in vectors:\n",
        "        similares = vectors.most_similar(palabra_consulta, topn=topn)\n",
        "        print(f\"Palabras similares a '{palabra_consulta}':\")\n",
        "        for palabra, similitud in similares:\n",
        "            print(f\"- {palabra} (similitud: {similitud:.3f})\")\n",
        "    else:\n",
        "        print(f\"La palabra '{palabra_consulta}' no está en el vocabulario\")\n",
        "\n"
      ],
      "metadata": {
        "id": "R1k9fjyEI713"
      },
      "execution_count": null,
      "outputs": []
    },
    {
      "cell_type": "code",
      "source": [
        "# Ejemplo con nuestro modelo pequeño\n",
        "buscar_similares(model, \"python\")\n",
        "\n"
      ],
      "metadata": {
        "colab": {
          "base_uri": "https://localhost:8080/"
        },
        "id": "0ErwFI1sJK6_",
        "outputId": "0076fc1d-9bb8-4c31-abfd-9f5f53b01897"
      },
      "execution_count": null,
      "outputs": [
        {
          "output_type": "stream",
          "name": "stdout",
          "text": [
            "Palabras similares a 'python':\n",
            "- son (similitud: 0.199)\n",
            "- y (similitud: 0.097)\n",
            "- es (similitud: 0.075)\n",
            "- programación (similitud: 0.061)\n",
            "- modelos (similitud: 0.045)\n"
          ]
        }
      ]
    },
    {
      "cell_type": "code",
      "source": [
        "# Ejemplo con modelo pre-entrenado (si está disponible)\n",
        "buscar_similares(modelo_preentrenado, \"python\")"
      ],
      "metadata": {
        "colab": {
          "base_uri": "https://localhost:8080/"
        },
        "id": "8cl1u4m1JOfx",
        "outputId": "fda0a8e4-fa91-4de9-f593-d0a81b820fd3"
      },
      "execution_count": null,
      "outputs": [
        {
          "output_type": "stream",
          "name": "stdout",
          "text": [
            "Palabras similares a 'python':\n",
            "- pythons (similitud: 0.669)\n",
            "- Burmese_python (similitud: 0.668)\n",
            "- snake (similitud: 0.661)\n",
            "- crocodile (similitud: 0.659)\n",
            "- boa_constrictor (similitud: 0.644)\n"
          ]
        }
      ]
    }
  ],
  "metadata": {
    "colab": {
      "provenance": []
    },
    "interpreter": {
      "hash": "3386c84ec0532bab34ae70cc8f30d327d47697366efd1f0b040a1804279813d8"
    },
    "kernelspec": {
      "display_name": "Python 3.8.12 ('venv': venv)",
      "language": "python",
      "name": "python3"
    },
    "language_info": {
      "codemirror_mode": {
        "name": "ipython",
        "version": 3
      },
      "file_extension": ".py",
      "mimetype": "text/x-python",
      "name": "python",
      "nbconvert_exporter": "python",
      "pygments_lexer": "ipython3",
      "version": "3.8.12"
    }
  },
  "nbformat": 4,
  "nbformat_minor": 0
}